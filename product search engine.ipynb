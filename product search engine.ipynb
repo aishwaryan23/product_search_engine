{
 "cells": [
  {
   "cell_type": "code",
   "execution_count": 38,
   "id": "c156c1f7",
   "metadata": {},
   "outputs": [],
   "source": [
    "import pandas as pd\n",
    "import numpy as np\n",
    "from nltk.stem.porter import PorterStemmer\n",
    "from sklearn.feature_extraction.text import CountVectorizer\n",
    "from sklearn.metrics.pairwise import cosine_similarity\n",
    "import pickle"
   ]
  },
  {
   "cell_type": "code",
   "execution_count": 39,
   "id": "0cae574f",
   "metadata": {},
   "outputs": [],
   "source": [
    "electronics = pd.read_csv(\"All Electronics.csv\")"
   ]
  },
  {
   "cell_type": "code",
   "execution_count": 40,
   "id": "7d2f30f5",
   "metadata": {},
   "outputs": [],
   "source": [
    "pd.set_option('display.max_colwidth', None)"
   ]
  },
  {
   "cell_type": "code",
   "execution_count": 41,
   "id": "826d1a0e",
   "metadata": {},
   "outputs": [
    {
     "data": {
      "text/html": [
       "<div>\n",
       "<style scoped>\n",
       "    .dataframe tbody tr th:only-of-type {\n",
       "        vertical-align: middle;\n",
       "    }\n",
       "\n",
       "    .dataframe tbody tr th {\n",
       "        vertical-align: top;\n",
       "    }\n",
       "\n",
       "    .dataframe thead th {\n",
       "        text-align: right;\n",
       "    }\n",
       "</style>\n",
       "<table border=\"1\" class=\"dataframe\">\n",
       "  <thead>\n",
       "    <tr style=\"text-align: right;\">\n",
       "      <th></th>\n",
       "      <th>name</th>\n",
       "      <th>main_category</th>\n",
       "      <th>sub_category</th>\n",
       "      <th>image</th>\n",
       "      <th>link</th>\n",
       "      <th>ratings</th>\n",
       "      <th>no_of_ratings</th>\n",
       "      <th>discount_price</th>\n",
       "      <th>actual_price</th>\n",
       "    </tr>\n",
       "  </thead>\n",
       "  <tbody>\n",
       "    <tr>\n",
       "      <th>8324</th>\n",
       "      <td>Smart Shelter Adjustable Size Universal 100% Metal Speaker Stand Wall Mount, Speaker Holder/Bracket, Accommodate All Speak...</td>\n",
       "      <td>tv, audio &amp; cameras</td>\n",
       "      <td>All Electronics</td>\n",
       "      <td>https://m.media-amazon.com/images/W/IMAGERENDERING_521856-T2/images/I/41yLKkFJONL._AC_UL320_.jpg</td>\n",
       "      <td>https://www.amazon.in/Smart-Shelter-Adjustable-Universal-Speaker/dp/B07DKCMKF5/ref=sr_1_8327?qid=1679134163&amp;s=electronics&amp;sr=1-8327</td>\n",
       "      <td>3.6</td>\n",
       "      <td>641</td>\n",
       "      <td>₹699</td>\n",
       "      <td>₹1,999</td>\n",
       "    </tr>\n",
       "    <tr>\n",
       "      <th>518</th>\n",
       "      <td>Redgear A-15 Wired Gaming Mouse with Upto 6400 DPI, RGB &amp; Driver Customization for PC(Black)</td>\n",
       "      <td>tv, audio &amp; cameras</td>\n",
       "      <td>All Electronics</td>\n",
       "      <td>https://m.media-amazon.com/images/W/IMAGERENDERING_521856-T1/images/I/61MUoISbzjL._AC_UL320_.jpg</td>\n",
       "      <td>https://www.amazon.in/Redgear-Gaming-Semi-Honeycomb-Windows-Gamers/dp/B08CHZ3ZQ7/ref=sr_1_524?qid=1679133681&amp;s=electronics&amp;sr=1-524</td>\n",
       "      <td>4.3</td>\n",
       "      <td>14,823</td>\n",
       "      <td>₹499</td>\n",
       "      <td>₹799</td>\n",
       "    </tr>\n",
       "  </tbody>\n",
       "</table>\n",
       "</div>"
      ],
      "text/plain": [
       "                                                                                                                               name  \\\n",
       "8324  Smart Shelter Adjustable Size Universal 100% Metal Speaker Stand Wall Mount, Speaker Holder/Bracket, Accommodate All Speak...   \n",
       "518                                    Redgear A-15 Wired Gaming Mouse with Upto 6400 DPI, RGB & Driver Customization for PC(Black)   \n",
       "\n",
       "            main_category     sub_category  \\\n",
       "8324  tv, audio & cameras  All Electronics   \n",
       "518   tv, audio & cameras  All Electronics   \n",
       "\n",
       "                                                                                                 image  \\\n",
       "8324  https://m.media-amazon.com/images/W/IMAGERENDERING_521856-T2/images/I/41yLKkFJONL._AC_UL320_.jpg   \n",
       "518   https://m.media-amazon.com/images/W/IMAGERENDERING_521856-T1/images/I/61MUoISbzjL._AC_UL320_.jpg   \n",
       "\n",
       "                                                                                                                                     link  \\\n",
       "8324  https://www.amazon.in/Smart-Shelter-Adjustable-Universal-Speaker/dp/B07DKCMKF5/ref=sr_1_8327?qid=1679134163&s=electronics&sr=1-8327   \n",
       "518   https://www.amazon.in/Redgear-Gaming-Semi-Honeycomb-Windows-Gamers/dp/B08CHZ3ZQ7/ref=sr_1_524?qid=1679133681&s=electronics&sr=1-524   \n",
       "\n",
       "     ratings no_of_ratings discount_price actual_price  \n",
       "8324     3.6           641           ₹699       ₹1,999  \n",
       "518      4.3        14,823           ₹499         ₹799  "
      ]
     },
     "execution_count": 41,
     "metadata": {},
     "output_type": "execute_result"
    }
   ],
   "source": [
    "electronics.sample(2)"
   ]
  },
  {
   "cell_type": "code",
   "execution_count": 42,
   "id": "ed6d3ab8",
   "metadata": {},
   "outputs": [
    {
     "name": "stdout",
     "output_type": "stream",
     "text": [
      "<class 'pandas.core.frame.DataFrame'>\n",
      "RangeIndex: 9600 entries, 0 to 9599\n",
      "Data columns (total 9 columns):\n",
      " #   Column          Non-Null Count  Dtype \n",
      "---  ------          --------------  ----- \n",
      " 0   name            9600 non-null   object\n",
      " 1   main_category   9600 non-null   object\n",
      " 2   sub_category    9600 non-null   object\n",
      " 3   image           9600 non-null   object\n",
      " 4   link            9600 non-null   object\n",
      " 5   ratings         9505 non-null   object\n",
      " 6   no_of_ratings   9505 non-null   object\n",
      " 7   discount_price  9116 non-null   object\n",
      " 8   actual_price    9530 non-null   object\n",
      "dtypes: object(9)\n",
      "memory usage: 675.1+ KB\n"
     ]
    }
   ],
   "source": [
    "electronics.info()"
   ]
  },
  {
   "cell_type": "code",
   "execution_count": 43,
   "id": "eb229f72",
   "metadata": {},
   "outputs": [
    {
     "data": {
      "text/plain": [
       "0"
      ]
     },
     "execution_count": 43,
     "metadata": {},
     "output_type": "execute_result"
    }
   ],
   "source": [
    "electronics.duplicated().sum()"
   ]
  },
  {
   "cell_type": "code",
   "execution_count": 44,
   "id": "a595d081",
   "metadata": {},
   "outputs": [
    {
     "data": {
      "text/plain": [
       "name                0\n",
       "main_category       0\n",
       "sub_category        0\n",
       "image               0\n",
       "link                0\n",
       "ratings            95\n",
       "no_of_ratings      95\n",
       "discount_price    484\n",
       "actual_price       70\n",
       "dtype: int64"
      ]
     },
     "execution_count": 44,
     "metadata": {},
     "output_type": "execute_result"
    }
   ],
   "source": [
    "electronics.isnull().sum()"
   ]
  },
  {
   "cell_type": "code",
   "execution_count": 45,
   "id": "c8e173f3",
   "metadata": {},
   "outputs": [
    {
     "data": {
      "text/plain": [
       "name                0\n",
       "main_category       0\n",
       "sub_category        0\n",
       "image               0\n",
       "link                0\n",
       "ratings            95\n",
       "no_of_ratings      95\n",
       "discount_price    484\n",
       "actual_price        0\n",
       "dtype: int64"
      ]
     },
     "execution_count": 45,
     "metadata": {},
     "output_type": "execute_result"
    }
   ],
   "source": [
    "electronics['actual_price'] = electronics['actual_price'].fillna(\"₹19,000\")\n",
    "electronics.isnull().sum()"
   ]
  },
  {
   "cell_type": "code",
   "execution_count": 46,
   "id": "62362262",
   "metadata": {},
   "outputs": [],
   "source": [
    "electronics[\"#keywords\"] = electronics['name'].str.lower()"
   ]
  },
  {
   "cell_type": "code",
   "execution_count": 47,
   "id": "096c16a1",
   "metadata": {},
   "outputs": [
    {
     "data": {
      "text/html": [
       "<div>\n",
       "<style scoped>\n",
       "    .dataframe tbody tr th:only-of-type {\n",
       "        vertical-align: middle;\n",
       "    }\n",
       "\n",
       "    .dataframe tbody tr th {\n",
       "        vertical-align: top;\n",
       "    }\n",
       "\n",
       "    .dataframe thead th {\n",
       "        text-align: right;\n",
       "    }\n",
       "</style>\n",
       "<table border=\"1\" class=\"dataframe\">\n",
       "  <thead>\n",
       "    <tr style=\"text-align: right;\">\n",
       "      <th></th>\n",
       "      <th>name</th>\n",
       "      <th>main_category</th>\n",
       "      <th>sub_category</th>\n",
       "      <th>image</th>\n",
       "      <th>link</th>\n",
       "      <th>ratings</th>\n",
       "      <th>no_of_ratings</th>\n",
       "      <th>discount_price</th>\n",
       "      <th>actual_price</th>\n",
       "      <th>#keywords</th>\n",
       "    </tr>\n",
       "  </thead>\n",
       "  <tbody>\n",
       "    <tr>\n",
       "      <th>0</th>\n",
       "      <td>Redmi 10 Power (Power Black, 8GB RAM, 128GB Storage)</td>\n",
       "      <td>tv, audio &amp; cameras</td>\n",
       "      <td>All Electronics</td>\n",
       "      <td>https://m.media-amazon.com/images/I/81eM15lVcJL._AC_UL320_.jpg</td>\n",
       "      <td>https://www.amazon.in/Redmi-Power-Black-128GB-Storage/dp/B09Y64H8VS/ref=sr_1_4?qid=1679133649&amp;s=electronics&amp;sr=1-4</td>\n",
       "      <td>4.0</td>\n",
       "      <td>965</td>\n",
       "      <td>₹10,999</td>\n",
       "      <td>₹18,999</td>\n",
       "      <td>redmi 10 power (power black, 8gb ram, 128gb storage)</td>\n",
       "    </tr>\n",
       "  </tbody>\n",
       "</table>\n",
       "</div>"
      ],
      "text/plain": [
       "                                                   name        main_category  \\\n",
       "0  Redmi 10 Power (Power Black, 8GB RAM, 128GB Storage)  tv, audio & cameras   \n",
       "\n",
       "      sub_category  \\\n",
       "0  All Electronics   \n",
       "\n",
       "                                                            image  \\\n",
       "0  https://m.media-amazon.com/images/I/81eM15lVcJL._AC_UL320_.jpg   \n",
       "\n",
       "                                                                                                                 link  \\\n",
       "0  https://www.amazon.in/Redmi-Power-Black-128GB-Storage/dp/B09Y64H8VS/ref=sr_1_4?qid=1679133649&s=electronics&sr=1-4   \n",
       "\n",
       "  ratings no_of_ratings discount_price actual_price  \\\n",
       "0     4.0           965        ₹10,999      ₹18,999   \n",
       "\n",
       "                                              #keywords  \n",
       "0  redmi 10 power (power black, 8gb ram, 128gb storage)  "
      ]
     },
     "execution_count": 47,
     "metadata": {},
     "output_type": "execute_result"
    }
   ],
   "source": [
    "electronics.head(1)"
   ]
  },
  {
   "cell_type": "code",
   "execution_count": 48,
   "id": "8a8f541c",
   "metadata": {},
   "outputs": [
    {
     "data": {
      "text/plain": [
       "Index(['name', 'main_category', 'sub_category', 'image', 'link', 'ratings',\n",
       "       'no_of_ratings', 'discount_price', 'actual_price', '#keywords'],\n",
       "      dtype='object')"
      ]
     },
     "execution_count": 48,
     "metadata": {},
     "output_type": "execute_result"
    }
   ],
   "source": [
    "electronics.columns"
   ]
  },
  {
   "cell_type": "code",
   "execution_count": 49,
   "id": "c831ba98",
   "metadata": {},
   "outputs": [
    {
     "name": "stdout",
     "output_type": "stream",
     "text": [
      "tv, audio & cameras    9600\n",
      "Name: main_category, dtype: int64\n",
      "All Electronics    9600\n",
      "Name: sub_category, dtype: int64\n"
     ]
    }
   ],
   "source": [
    "print(electronics[\"main_category\"].value_counts())\n",
    "print(electronics[\"sub_category\"].value_counts())"
   ]
  },
  {
   "cell_type": "code",
   "execution_count": 50,
   "id": "2de96412",
   "metadata": {},
   "outputs": [],
   "source": [
    "electronics.drop(['main_category','sub_category'],axis=1,inplace=True)"
   ]
  },
  {
   "cell_type": "code",
   "execution_count": 51,
   "id": "f7de9779",
   "metadata": {},
   "outputs": [
    {
     "data": {
      "text/html": [
       "<div>\n",
       "<style scoped>\n",
       "    .dataframe tbody tr th:only-of-type {\n",
       "        vertical-align: middle;\n",
       "    }\n",
       "\n",
       "    .dataframe tbody tr th {\n",
       "        vertical-align: top;\n",
       "    }\n",
       "\n",
       "    .dataframe thead th {\n",
       "        text-align: right;\n",
       "    }\n",
       "</style>\n",
       "<table border=\"1\" class=\"dataframe\">\n",
       "  <thead>\n",
       "    <tr style=\"text-align: right;\">\n",
       "      <th></th>\n",
       "      <th>name</th>\n",
       "      <th>image</th>\n",
       "      <th>link</th>\n",
       "      <th>ratings</th>\n",
       "      <th>no_of_ratings</th>\n",
       "      <th>discount_price</th>\n",
       "      <th>actual_price</th>\n",
       "      <th>#keywords</th>\n",
       "    </tr>\n",
       "  </thead>\n",
       "  <tbody>\n",
       "    <tr>\n",
       "      <th>0</th>\n",
       "      <td>Redmi 10 Power (Power Black, 8GB RAM, 128GB Storage)</td>\n",
       "      <td>https://m.media-amazon.com/images/I/81eM15lVcJL._AC_UL320_.jpg</td>\n",
       "      <td>https://www.amazon.in/Redmi-Power-Black-128GB-Storage/dp/B09Y64H8VS/ref=sr_1_4?qid=1679133649&amp;s=electronics&amp;sr=1-4</td>\n",
       "      <td>4.0</td>\n",
       "      <td>965</td>\n",
       "      <td>₹10,999</td>\n",
       "      <td>₹18,999</td>\n",
       "      <td>redmi 10 power (power black, 8gb ram, 128gb storage)</td>\n",
       "    </tr>\n",
       "    <tr>\n",
       "      <th>1</th>\n",
       "      <td>OnePlus Nord CE 2 Lite 5G (Blue Tide, 6GB RAM, 128GB Storage)</td>\n",
       "      <td>https://m.media-amazon.com/images/I/71AvQd3VzqL._AC_UL320_.jpg</td>\n",
       "      <td>https://www.amazon.in/OnePlus-Nord-Lite-128GB-Storage/dp/B09WQYFLRX/ref=sr_1_5?qid=1679133649&amp;s=electronics&amp;sr=1-5</td>\n",
       "      <td>4.3</td>\n",
       "      <td>113,956</td>\n",
       "      <td>₹18,999</td>\n",
       "      <td>₹19,999</td>\n",
       "      <td>oneplus nord ce 2 lite 5g (blue tide, 6gb ram, 128gb storage)</td>\n",
       "    </tr>\n",
       "    <tr>\n",
       "      <th>2</th>\n",
       "      <td>OnePlus Bullets Z2 Bluetooth Wireless in Ear Earphones with Mic, Bombastic Bass - 12.4 Mm Drivers, 10 Mins Charge - 20 Hrs...</td>\n",
       "      <td>https://m.media-amazon.com/images/I/51UhwaQXCpL._AC_UL320_.jpg</td>\n",
       "      <td>https://www.amazon.in/Oneplus-Bluetooth-Wireless-Earphones-Bombastic/dp/B09TVVGXWS/ref=sr_1_6?qid=1679133649&amp;s=electronics&amp;sr=1-6</td>\n",
       "      <td>4.2</td>\n",
       "      <td>90,304</td>\n",
       "      <td>₹1,999</td>\n",
       "      <td>₹2,299</td>\n",
       "      <td>oneplus bullets z2 bluetooth wireless in ear earphones with mic, bombastic bass - 12.4 mm drivers, 10 mins charge - 20 hrs...</td>\n",
       "    </tr>\n",
       "    <tr>\n",
       "      <th>3</th>\n",
       "      <td>Samsung Galaxy M33 5G (Mystique Green, 6GB, 128GB Storage) | 6000mAh Battery | Upto 12GB RAM with RAM Plus | Travel Adapte...</td>\n",
       "      <td>https://m.media-amazon.com/images/I/81I3w4J6yjL._AC_UL320_.jpg</td>\n",
       "      <td>https://www.amazon.in/Samsung-Mystique-Storage-Purchased-Separately/dp/B09TWGDY4W/ref=sr_1_7?qid=1679133649&amp;s=electronics&amp;sr=1-7</td>\n",
       "      <td>4.1</td>\n",
       "      <td>24,863</td>\n",
       "      <td>₹15,999</td>\n",
       "      <td>₹24,999</td>\n",
       "      <td>samsung galaxy m33 5g (mystique green, 6gb, 128gb storage) | 6000mah battery | upto 12gb ram with ram plus | travel adapte...</td>\n",
       "    </tr>\n",
       "    <tr>\n",
       "      <th>4</th>\n",
       "      <td>OnePlus Nord CE 2 Lite 5G (Black Dusk, 6GB RAM, 128GB Storage)</td>\n",
       "      <td>https://m.media-amazon.com/images/I/71V--WZVUIL._AC_UL320_.jpg</td>\n",
       "      <td>https://www.amazon.in/OnePlus-Nord-Black-128GB-Storage/dp/B09WQY65HN/ref=sr_1_8?qid=1679133649&amp;s=electronics&amp;sr=1-8</td>\n",
       "      <td>4.3</td>\n",
       "      <td>113,956</td>\n",
       "      <td>₹18,999</td>\n",
       "      <td>₹19,999</td>\n",
       "      <td>oneplus nord ce 2 lite 5g (black dusk, 6gb ram, 128gb storage)</td>\n",
       "    </tr>\n",
       "    <tr>\n",
       "      <th>...</th>\n",
       "      <td>...</td>\n",
       "      <td>...</td>\n",
       "      <td>...</td>\n",
       "      <td>...</td>\n",
       "      <td>...</td>\n",
       "      <td>...</td>\n",
       "      <td>...</td>\n",
       "      <td>...</td>\n",
       "    </tr>\n",
       "    <tr>\n",
       "      <th>9595</th>\n",
       "      <td>PALAY® BTS Backpack For Boys Kpop BTS Bangtan School Backback For Student with Cable Vent, Backpack Travel Bag Backpack La...</td>\n",
       "      <td>https://m.media-amazon.com/images/W/IMAGERENDERING_521856-T2/images/I/51WpV43F1ML._AC_UL320_.jpg</td>\n",
       "      <td>https://www.amazon.in/PALAY%C2%AE-Backpack-Bangtan-Backback-Student/dp/B09XMFBMCR/ref=sr_1_9598?qid=1679134236&amp;s=electronics&amp;sr=1-9598</td>\n",
       "      <td>4.1</td>\n",
       "      <td>37</td>\n",
       "      <td>₹1,710</td>\n",
       "      <td>₹2,491</td>\n",
       "      <td>palay® bts backpack for boys kpop bts bangtan school backback for student with cable vent, backpack travel bag backpack la...</td>\n",
       "    </tr>\n",
       "    <tr>\n",
       "      <th>9596</th>\n",
       "      <td>MOCA iPad Air 5th Generation Case 2022 / iPad Air 4th 2020 Case 10.9 Inch, Slim Stand Hard Back Shell Protective Smart Cov...</td>\n",
       "      <td>https://m.media-amazon.com/images/W/IMAGERENDERING_521856-T2/images/I/31lmoZ3XWQL._AC_UL320_.jpg</td>\n",
       "      <td>https://www.amazon.in/MOCA-Protective-Generation-Support-Charging/dp/B08SHY6FQV/ref=sr_1_9599?qid=1679134236&amp;s=electronics&amp;sr=1-9599</td>\n",
       "      <td>4.2</td>\n",
       "      <td>1,133</td>\n",
       "      <td>₹475</td>\n",
       "      <td>₹1,999</td>\n",
       "      <td>moca ipad air 5th generation case 2022 / ipad air 4th 2020 case 10.9 inch, slim stand hard back shell protective smart cov...</td>\n",
       "    </tr>\n",
       "    <tr>\n",
       "      <th>9597</th>\n",
       "      <td>ZEBRONICS Zeb-Sound Bomb 5 TWS V5.0 Bluetooth Truly Wireless in Ear Earbuds with Up to 22H Backup, Flash Connect, Splash P...</td>\n",
       "      <td>https://m.media-amazon.com/images/W/IMAGERENDERING_521856-T2/images/I/61O7fCXFipL._AC_UL320_.jpg</td>\n",
       "      <td>https://www.amazon.in/Zebronics-Zeb-Sound-Bluetooth-Wireless-Earbuds/dp/B09NNNLBVD/ref=sr_1_9600?qid=1679134236&amp;s=electronics&amp;sr=1-9600</td>\n",
       "      <td>3.5</td>\n",
       "      <td>3,177</td>\n",
       "      <td>₹962</td>\n",
       "      <td>₹3,999</td>\n",
       "      <td>zebronics zeb-sound bomb 5 tws v5.0 bluetooth truly wireless in ear earbuds with up to 22h backup, flash connect, splash p...</td>\n",
       "    </tr>\n",
       "    <tr>\n",
       "      <th>9598</th>\n",
       "      <td>LINQS® Original NXP Chip | Waterproof NFC Tag Sticker (Set of 5) | Smartrac Circus NTAG213 chip | for All NFC Phones | Vin...</td>\n",
       "      <td>https://m.media-amazon.com/images/W/IMAGERENDERING_521856-T2/images/I/71Sg1Qsf+4L._AC_UL320_.jpg</td>\n",
       "      <td>https://www.amazon.in/LINQS-Sticker-Smartrac-Circus-NTAG213/dp/B011CD6OVM/ref=sr_1_9601?qid=1679134236&amp;s=electronics&amp;sr=1-9601</td>\n",
       "      <td>3.6</td>\n",
       "      <td>210</td>\n",
       "      <td>₹400</td>\n",
       "      <td>₹1,000</td>\n",
       "      <td>linqs® original nxp chip | waterproof nfc tag sticker (set of 5) | smartrac circus ntag213 chip | for all nfc phones | vin...</td>\n",
       "    </tr>\n",
       "    <tr>\n",
       "      <th>9599</th>\n",
       "      <td>Pragati Systems® Medium Grain 24x36 Inch 10 Oz. Primed Cotton Pre Stretched Canvas with Wooden Frame for Painting ACS2436,...</td>\n",
       "      <td>https://m.media-amazon.com/images/W/IMAGERENDERING_521856-T2/images/I/81ozRRztszL._AC_UL320_.jpg</td>\n",
       "      <td>https://www.amazon.in/Pragati-Systems-Stretched-Painting-ACS2436/dp/B07PNWGXTF/ref=sr_1_9602?qid=1679134236&amp;s=electronics&amp;sr=1-9602</td>\n",
       "      <td>4.5</td>\n",
       "      <td>938</td>\n",
       "      <td>₹940</td>\n",
       "      <td>₹1,120</td>\n",
       "      <td>pragati systems® medium grain 24x36 inch 10 oz. primed cotton pre stretched canvas with wooden frame for painting acs2436,...</td>\n",
       "    </tr>\n",
       "  </tbody>\n",
       "</table>\n",
       "<p>9600 rows × 8 columns</p>\n",
       "</div>"
      ],
      "text/plain": [
       "                                                                                                                               name  \\\n",
       "0                                                                              Redmi 10 Power (Power Black, 8GB RAM, 128GB Storage)   \n",
       "1                                                                     OnePlus Nord CE 2 Lite 5G (Blue Tide, 6GB RAM, 128GB Storage)   \n",
       "2     OnePlus Bullets Z2 Bluetooth Wireless in Ear Earphones with Mic, Bombastic Bass - 12.4 Mm Drivers, 10 Mins Charge - 20 Hrs...   \n",
       "3     Samsung Galaxy M33 5G (Mystique Green, 6GB, 128GB Storage) | 6000mAh Battery | Upto 12GB RAM with RAM Plus | Travel Adapte...   \n",
       "4                                                                    OnePlus Nord CE 2 Lite 5G (Black Dusk, 6GB RAM, 128GB Storage)   \n",
       "...                                                                                                                             ...   \n",
       "9595  PALAY® BTS Backpack For Boys Kpop BTS Bangtan School Backback For Student with Cable Vent, Backpack Travel Bag Backpack La...   \n",
       "9596  MOCA iPad Air 5th Generation Case 2022 / iPad Air 4th 2020 Case 10.9 Inch, Slim Stand Hard Back Shell Protective Smart Cov...   \n",
       "9597  ZEBRONICS Zeb-Sound Bomb 5 TWS V5.0 Bluetooth Truly Wireless in Ear Earbuds with Up to 22H Backup, Flash Connect, Splash P...   \n",
       "9598  LINQS® Original NXP Chip | Waterproof NFC Tag Sticker (Set of 5) | Smartrac Circus NTAG213 chip | for All NFC Phones | Vin...   \n",
       "9599  Pragati Systems® Medium Grain 24x36 Inch 10 Oz. Primed Cotton Pre Stretched Canvas with Wooden Frame for Painting ACS2436,...   \n",
       "\n",
       "                                                                                                 image  \\\n",
       "0                                       https://m.media-amazon.com/images/I/81eM15lVcJL._AC_UL320_.jpg   \n",
       "1                                       https://m.media-amazon.com/images/I/71AvQd3VzqL._AC_UL320_.jpg   \n",
       "2                                       https://m.media-amazon.com/images/I/51UhwaQXCpL._AC_UL320_.jpg   \n",
       "3                                       https://m.media-amazon.com/images/I/81I3w4J6yjL._AC_UL320_.jpg   \n",
       "4                                       https://m.media-amazon.com/images/I/71V--WZVUIL._AC_UL320_.jpg   \n",
       "...                                                                                                ...   \n",
       "9595  https://m.media-amazon.com/images/W/IMAGERENDERING_521856-T2/images/I/51WpV43F1ML._AC_UL320_.jpg   \n",
       "9596  https://m.media-amazon.com/images/W/IMAGERENDERING_521856-T2/images/I/31lmoZ3XWQL._AC_UL320_.jpg   \n",
       "9597  https://m.media-amazon.com/images/W/IMAGERENDERING_521856-T2/images/I/61O7fCXFipL._AC_UL320_.jpg   \n",
       "9598  https://m.media-amazon.com/images/W/IMAGERENDERING_521856-T2/images/I/71Sg1Qsf+4L._AC_UL320_.jpg   \n",
       "9599  https://m.media-amazon.com/images/W/IMAGERENDERING_521856-T2/images/I/81ozRRztszL._AC_UL320_.jpg   \n",
       "\n",
       "                                                                                                                                         link  \\\n",
       "0                          https://www.amazon.in/Redmi-Power-Black-128GB-Storage/dp/B09Y64H8VS/ref=sr_1_4?qid=1679133649&s=electronics&sr=1-4   \n",
       "1                          https://www.amazon.in/OnePlus-Nord-Lite-128GB-Storage/dp/B09WQYFLRX/ref=sr_1_5?qid=1679133649&s=electronics&sr=1-5   \n",
       "2           https://www.amazon.in/Oneplus-Bluetooth-Wireless-Earphones-Bombastic/dp/B09TVVGXWS/ref=sr_1_6?qid=1679133649&s=electronics&sr=1-6   \n",
       "3            https://www.amazon.in/Samsung-Mystique-Storage-Purchased-Separately/dp/B09TWGDY4W/ref=sr_1_7?qid=1679133649&s=electronics&sr=1-7   \n",
       "4                         https://www.amazon.in/OnePlus-Nord-Black-128GB-Storage/dp/B09WQY65HN/ref=sr_1_8?qid=1679133649&s=electronics&sr=1-8   \n",
       "...                                                                                                                                       ...   \n",
       "9595   https://www.amazon.in/PALAY%C2%AE-Backpack-Bangtan-Backback-Student/dp/B09XMFBMCR/ref=sr_1_9598?qid=1679134236&s=electronics&sr=1-9598   \n",
       "9596     https://www.amazon.in/MOCA-Protective-Generation-Support-Charging/dp/B08SHY6FQV/ref=sr_1_9599?qid=1679134236&s=electronics&sr=1-9599   \n",
       "9597  https://www.amazon.in/Zebronics-Zeb-Sound-Bluetooth-Wireless-Earbuds/dp/B09NNNLBVD/ref=sr_1_9600?qid=1679134236&s=electronics&sr=1-9600   \n",
       "9598           https://www.amazon.in/LINQS-Sticker-Smartrac-Circus-NTAG213/dp/B011CD6OVM/ref=sr_1_9601?qid=1679134236&s=electronics&sr=1-9601   \n",
       "9599      https://www.amazon.in/Pragati-Systems-Stretched-Painting-ACS2436/dp/B07PNWGXTF/ref=sr_1_9602?qid=1679134236&s=electronics&sr=1-9602   \n",
       "\n",
       "     ratings no_of_ratings discount_price actual_price  \\\n",
       "0        4.0           965        ₹10,999      ₹18,999   \n",
       "1        4.3       113,956        ₹18,999      ₹19,999   \n",
       "2        4.2        90,304         ₹1,999       ₹2,299   \n",
       "3        4.1        24,863        ₹15,999      ₹24,999   \n",
       "4        4.3       113,956        ₹18,999      ₹19,999   \n",
       "...      ...           ...            ...          ...   \n",
       "9595     4.1            37         ₹1,710       ₹2,491   \n",
       "9596     4.2         1,133           ₹475       ₹1,999   \n",
       "9597     3.5         3,177           ₹962       ₹3,999   \n",
       "9598     3.6           210           ₹400       ₹1,000   \n",
       "9599     4.5           938           ₹940       ₹1,120   \n",
       "\n",
       "                                                                                                                          #keywords  \n",
       "0                                                                              redmi 10 power (power black, 8gb ram, 128gb storage)  \n",
       "1                                                                     oneplus nord ce 2 lite 5g (blue tide, 6gb ram, 128gb storage)  \n",
       "2     oneplus bullets z2 bluetooth wireless in ear earphones with mic, bombastic bass - 12.4 mm drivers, 10 mins charge - 20 hrs...  \n",
       "3     samsung galaxy m33 5g (mystique green, 6gb, 128gb storage) | 6000mah battery | upto 12gb ram with ram plus | travel adapte...  \n",
       "4                                                                    oneplus nord ce 2 lite 5g (black dusk, 6gb ram, 128gb storage)  \n",
       "...                                                                                                                             ...  \n",
       "9595  palay® bts backpack for boys kpop bts bangtan school backback for student with cable vent, backpack travel bag backpack la...  \n",
       "9596  moca ipad air 5th generation case 2022 / ipad air 4th 2020 case 10.9 inch, slim stand hard back shell protective smart cov...  \n",
       "9597  zebronics zeb-sound bomb 5 tws v5.0 bluetooth truly wireless in ear earbuds with up to 22h backup, flash connect, splash p...  \n",
       "9598  linqs® original nxp chip | waterproof nfc tag sticker (set of 5) | smartrac circus ntag213 chip | for all nfc phones | vin...  \n",
       "9599  pragati systems® medium grain 24x36 inch 10 oz. primed cotton pre stretched canvas with wooden frame for painting acs2436,...  \n",
       "\n",
       "[9600 rows x 8 columns]"
      ]
     },
     "execution_count": 51,
     "metadata": {},
     "output_type": "execute_result"
    }
   ],
   "source": [
    "electronics"
   ]
  },
  {
   "cell_type": "code",
   "execution_count": 52,
   "id": "e9dc3618",
   "metadata": {},
   "outputs": [],
   "source": [
    "electronics['#keywords'] = electronics['#keywords'].str.replace('''[^\\w\\d\\s]''','', regex = True)"
   ]
  },
  {
   "cell_type": "code",
   "execution_count": 53,
   "id": "6a38ee13",
   "metadata": {},
   "outputs": [
    {
     "data": {
      "text/plain": [
       "0                                                                               redmi 10 power power black 8gb ram 128gb storage\n",
       "1                                                                      oneplus nord ce 2 lite 5g blue tide 6gb ram 128gb storage\n",
       "2          oneplus bullets z2 bluetooth wireless in ear earphones with mic bombastic bass  124 mm drivers 10 mins charge  20 hrs\n",
       "3            samsung galaxy m33 5g mystique green 6gb 128gb storage  6000mah battery  upto 12gb ram with ram plus  travel adapte\n",
       "4                                                                     oneplus nord ce 2 lite 5g black dusk 6gb ram 128gb storage\n",
       "                                                                  ...                                                           \n",
       "9595    palay bts backpack for boys kpop bts bangtan school backback for student with cable vent backpack travel bag backpack la\n",
       "9596     moca ipad air 5th generation case 2022  ipad air 4th 2020 case 109 inch slim stand hard back shell protective smart cov\n",
       "9597      zebronics zebsound bomb 5 tws v50 bluetooth truly wireless in ear earbuds with up to 22h backup flash connect splash p\n",
       "9598         linqs original nxp chip  waterproof nfc tag sticker set of 5  smartrac circus ntag213 chip  for all nfc phones  vin\n",
       "9599     pragati systems medium grain 24x36 inch 10 oz primed cotton pre stretched canvas with wooden frame for painting acs2436\n",
       "Name: #keywords, Length: 9600, dtype: object"
      ]
     },
     "execution_count": 53,
     "metadata": {},
     "output_type": "execute_result"
    }
   ],
   "source": [
    "electronics[\"#keywords\"]"
   ]
  },
  {
   "cell_type": "code",
   "execution_count": 54,
   "id": "7508cbbe",
   "metadata": {},
   "outputs": [],
   "source": [
    "stemmer = PorterStemmer()"
   ]
  },
  {
   "cell_type": "code",
   "execution_count": 55,
   "id": "d4050f1c",
   "metadata": {},
   "outputs": [],
   "source": [
    "def stemming(text):\n",
    "    words =[]\n",
    "    for word in text.split(' '):\n",
    "        words.append(stemmer.stem(word))\n",
    "    return ' '.join(words)"
   ]
  },
  {
   "cell_type": "code",
   "execution_count": 56,
   "id": "5def449f",
   "metadata": {},
   "outputs": [
    {
     "data": {
      "text/plain": [
       "'danc in the danc floor while danc he fell on the floow and dancer'"
      ]
     },
     "execution_count": 56,
     "metadata": {},
     "output_type": "execute_result"
    }
   ],
   "source": [
    "text =\"dancing in the dance floor while dancing he fell on the floow and dancer\"\n",
    "stemming(text)"
   ]
  },
  {
   "cell_type": "code",
   "execution_count": 57,
   "id": "23e40a87",
   "metadata": {},
   "outputs": [],
   "source": [
    "electronics[\"#keywords\"] = electronics[\"#keywords\"].apply(stemming)"
   ]
  },
  {
   "cell_type": "code",
   "execution_count": 58,
   "id": "beb97288",
   "metadata": {},
   "outputs": [
    {
     "data": {
      "text/plain": [
       "0                                                                            redmi 10 power power black 8gb ram 128gb storag\n",
       "1                                                                    oneplu nord ce 2 lite 5g blue tide 6gb ram 128gb storag\n",
       "2                oneplu bullet z2 bluetooth wireless in ear earphon with mic bombast bass  124 mm driver 10 min charg  20 hr\n",
       "3            samsung galaxi m33 5g mystiqu green 6gb 128gb storag  6000mah batteri  upto 12gb ram with ram plu  travel adapt\n",
       "4                                                                   oneplu nord ce 2 lite 5g black dusk 6gb ram 128gb storag\n",
       "                                                                ...                                                         \n",
       "9595    palay bt backpack for boy kpop bt bangtan school backback for student with cabl vent backpack travel bag backpack la\n",
       "9596         moca ipad air 5th gener case 2022  ipad air 4th 2020 case 109 inch slim stand hard back shell protect smart cov\n",
       "9597       zebron zebsound bomb 5 tw v50 bluetooth truli wireless in ear earbud with up to 22h backup flash connect splash p\n",
       "9598          linq origin nxp chip  waterproof nfc tag sticker set of 5  smartrac circu ntag213 chip  for all nfc phone  vin\n",
       "9599         pragati system medium grain 24x36 inch 10 oz prime cotton pre stretch canva with wooden frame for paint acs2436\n",
       "Name: #keywords, Length: 9600, dtype: object"
      ]
     },
     "execution_count": 58,
     "metadata": {},
     "output_type": "execute_result"
    }
   ],
   "source": [
    "electronics[\"#keywords\"]"
   ]
  },
  {
   "cell_type": "code",
   "execution_count": 59,
   "id": "ae1fcb43",
   "metadata": {},
   "outputs": [],
   "source": [
    "cv = CountVectorizer(max_features = 5000,stop_words='english',dtype=np.uint8)"
   ]
  },
  {
   "cell_type": "code",
   "execution_count": 60,
   "id": "197964a9",
   "metadata": {},
   "outputs": [
    {
     "data": {
      "text/html": [
       "<style>#sk-container-id-2 {color: black;background-color: white;}#sk-container-id-2 pre{padding: 0;}#sk-container-id-2 div.sk-toggleable {background-color: white;}#sk-container-id-2 label.sk-toggleable__label {cursor: pointer;display: block;width: 100%;margin-bottom: 0;padding: 0.3em;box-sizing: border-box;text-align: center;}#sk-container-id-2 label.sk-toggleable__label-arrow:before {content: \"▸\";float: left;margin-right: 0.25em;color: #696969;}#sk-container-id-2 label.sk-toggleable__label-arrow:hover:before {color: black;}#sk-container-id-2 div.sk-estimator:hover label.sk-toggleable__label-arrow:before {color: black;}#sk-container-id-2 div.sk-toggleable__content {max-height: 0;max-width: 0;overflow: hidden;text-align: left;background-color: #f0f8ff;}#sk-container-id-2 div.sk-toggleable__content pre {margin: 0.2em;color: black;border-radius: 0.25em;background-color: #f0f8ff;}#sk-container-id-2 input.sk-toggleable__control:checked~div.sk-toggleable__content {max-height: 200px;max-width: 100%;overflow: auto;}#sk-container-id-2 input.sk-toggleable__control:checked~label.sk-toggleable__label-arrow:before {content: \"▾\";}#sk-container-id-2 div.sk-estimator input.sk-toggleable__control:checked~label.sk-toggleable__label {background-color: #d4ebff;}#sk-container-id-2 div.sk-label input.sk-toggleable__control:checked~label.sk-toggleable__label {background-color: #d4ebff;}#sk-container-id-2 input.sk-hidden--visually {border: 0;clip: rect(1px 1px 1px 1px);clip: rect(1px, 1px, 1px, 1px);height: 1px;margin: -1px;overflow: hidden;padding: 0;position: absolute;width: 1px;}#sk-container-id-2 div.sk-estimator {font-family: monospace;background-color: #f0f8ff;border: 1px dotted black;border-radius: 0.25em;box-sizing: border-box;margin-bottom: 0.5em;}#sk-container-id-2 div.sk-estimator:hover {background-color: #d4ebff;}#sk-container-id-2 div.sk-parallel-item::after {content: \"\";width: 100%;border-bottom: 1px solid gray;flex-grow: 1;}#sk-container-id-2 div.sk-label:hover label.sk-toggleable__label {background-color: #d4ebff;}#sk-container-id-2 div.sk-serial::before {content: \"\";position: absolute;border-left: 1px solid gray;box-sizing: border-box;top: 0;bottom: 0;left: 50%;z-index: 0;}#sk-container-id-2 div.sk-serial {display: flex;flex-direction: column;align-items: center;background-color: white;padding-right: 0.2em;padding-left: 0.2em;position: relative;}#sk-container-id-2 div.sk-item {position: relative;z-index: 1;}#sk-container-id-2 div.sk-parallel {display: flex;align-items: stretch;justify-content: center;background-color: white;position: relative;}#sk-container-id-2 div.sk-item::before, #sk-container-id-2 div.sk-parallel-item::before {content: \"\";position: absolute;border-left: 1px solid gray;box-sizing: border-box;top: 0;bottom: 0;left: 50%;z-index: -1;}#sk-container-id-2 div.sk-parallel-item {display: flex;flex-direction: column;z-index: 1;position: relative;background-color: white;}#sk-container-id-2 div.sk-parallel-item:first-child::after {align-self: flex-end;width: 50%;}#sk-container-id-2 div.sk-parallel-item:last-child::after {align-self: flex-start;width: 50%;}#sk-container-id-2 div.sk-parallel-item:only-child::after {width: 0;}#sk-container-id-2 div.sk-dashed-wrapped {border: 1px dashed gray;margin: 0 0.4em 0.5em 0.4em;box-sizing: border-box;padding-bottom: 0.4em;background-color: white;}#sk-container-id-2 div.sk-label label {font-family: monospace;font-weight: bold;display: inline-block;line-height: 1.2em;}#sk-container-id-2 div.sk-label-container {text-align: center;}#sk-container-id-2 div.sk-container {/* jupyter's `normalize.less` sets `[hidden] { display: none; }` but bootstrap.min.css set `[hidden] { display: none !important; }` so we also need the `!important` here to be able to override the default hidden behavior on the sphinx rendered scikit-learn.org. See: https://github.com/scikit-learn/scikit-learn/issues/21755 */display: inline-block !important;position: relative;}#sk-container-id-2 div.sk-text-repr-fallback {display: none;}</style><div id=\"sk-container-id-2\" class=\"sk-top-container\"><div class=\"sk-text-repr-fallback\"><pre>CountVectorizer(dtype=&lt;class &#x27;numpy.uint8&#x27;&gt;, max_features=5000,\n",
       "                stop_words=&#x27;english&#x27;)</pre><b>In a Jupyter environment, please rerun this cell to show the HTML representation or trust the notebook. <br />On GitHub, the HTML representation is unable to render, please try loading this page with nbviewer.org.</b></div><div class=\"sk-container\" hidden><div class=\"sk-item\"><div class=\"sk-estimator sk-toggleable\"><input class=\"sk-toggleable__control sk-hidden--visually\" id=\"sk-estimator-id-2\" type=\"checkbox\" checked><label for=\"sk-estimator-id-2\" class=\"sk-toggleable__label sk-toggleable__label-arrow\">CountVectorizer</label><div class=\"sk-toggleable__content\"><pre>CountVectorizer(dtype=&lt;class &#x27;numpy.uint8&#x27;&gt;, max_features=5000,\n",
       "                stop_words=&#x27;english&#x27;)</pre></div></div></div></div></div>"
      ],
      "text/plain": [
       "CountVectorizer(dtype=<class 'numpy.uint8'>, max_features=5000,\n",
       "                stop_words='english')"
      ]
     },
     "execution_count": 60,
     "metadata": {},
     "output_type": "execute_result"
    }
   ],
   "source": [
    "cv.fit(electronics[\"#keywords\"])"
   ]
  },
  {
   "cell_type": "code",
   "execution_count": 61,
   "id": "1bd2f5e9",
   "metadata": {},
   "outputs": [],
   "source": [
    "vector = cv.transform(electronics[\"#keywords\"]).toarray()"
   ]
  },
  {
   "cell_type": "code",
   "execution_count": 62,
   "id": "97c511ec",
   "metadata": {},
   "outputs": [
    {
     "data": {
      "text/plain": [
       "(9600, 5000)"
      ]
     },
     "execution_count": 62,
     "metadata": {},
     "output_type": "execute_result"
    }
   ],
   "source": [
    "vector.shape"
   ]
  },
  {
   "cell_type": "code",
   "execution_count": 63,
   "id": "33103791",
   "metadata": {},
   "outputs": [],
   "source": [
    "similarity = cosine_similarity(vector)"
   ]
  },
  {
   "cell_type": "code",
   "execution_count": 64,
   "id": "efa6151d",
   "metadata": {},
   "outputs": [],
   "source": [
    "del (vector) \n",
    "electronics.drop([\"#keywords\"], axis=1,inplace=True)"
   ]
  },
  {
   "cell_type": "code",
   "execution_count": 65,
   "id": "219e1eba",
   "metadata": {},
   "outputs": [
    {
     "data": {
      "text/plain": [
       "(9600, 9600)"
      ]
     },
     "execution_count": 65,
     "metadata": {},
     "output_type": "execute_result"
    }
   ],
   "source": [
    "similarity.shape"
   ]
  },
  {
   "cell_type": "code",
   "execution_count": 66,
   "id": "223df720",
   "metadata": {},
   "outputs": [
    {
     "data": {
      "text/plain": [
       "array([1.        , 0.28603878, 0.07106691, ..., 0.        , 0.        ,\n",
       "       0.08703883])"
      ]
     },
     "execution_count": 66,
     "metadata": {},
     "output_type": "execute_result"
    }
   ],
   "source": [
    "similarity[0]"
   ]
  },
  {
   "cell_type": "code",
   "execution_count": 67,
   "id": "6ceeade0",
   "metadata": {},
   "outputs": [
    {
     "data": {
      "text/plain": [
       "3940    Wisely |Pack 2| For Fire Boltt Invincible Plus SmartWatch Screen Guard Scratch Guard Full Screen Protector Compatible for ...\n",
       "6132                                                                    Samsung Galaxy A23 5G, Silver (8GB, 128GB Storage) with Offer\n",
       "6118    Lenovo IdeaPad Slim 3 Intel Celeron N4020 4th Gen 15.6\" (39.62cm) HD 220nits Anti-Glare (8GB/256GB SDD/Windows 11/Office 2...\n",
       "2716    boAt Stone 620 Bluetooth Speaker with 12W RMS Stereo Sound, 10HRS Playtime, TWS Feature, IPX4, Multi-Compatibility Modes(G...\n",
       "2577                                           Faber-Castell Erasable Crayon Tin Set - Pack of 12 (Assorted) + 2 FREE Gold and Silver\n",
       "Name: name, dtype: object"
      ]
     },
     "execution_count": 67,
     "metadata": {},
     "output_type": "execute_result"
    }
   ],
   "source": [
    "electronics['name'].sample(5)"
   ]
  },
  {
   "cell_type": "code",
   "execution_count": 68,
   "id": "0482b8a2",
   "metadata": {},
   "outputs": [
    {
     "data": {
      "text/html": [
       "<div>\n",
       "<style scoped>\n",
       "    .dataframe tbody tr th:only-of-type {\n",
       "        vertical-align: middle;\n",
       "    }\n",
       "\n",
       "    .dataframe tbody tr th {\n",
       "        vertical-align: top;\n",
       "    }\n",
       "\n",
       "    .dataframe thead th {\n",
       "        text-align: right;\n",
       "    }\n",
       "</style>\n",
       "<table border=\"1\" class=\"dataframe\">\n",
       "  <thead>\n",
       "    <tr style=\"text-align: right;\">\n",
       "      <th></th>\n",
       "      <th>name</th>\n",
       "      <th>image</th>\n",
       "      <th>link</th>\n",
       "      <th>ratings</th>\n",
       "      <th>no_of_ratings</th>\n",
       "      <th>discount_price</th>\n",
       "      <th>actual_price</th>\n",
       "    </tr>\n",
       "  </thead>\n",
       "  <tbody>\n",
       "    <tr>\n",
       "      <th>8667</th>\n",
       "      <td>Nik case Silicon Cover for Realme Buds Air Pro/Air 2 (Soft|Silicon|Black)</td>\n",
       "      <td>https://m.media-amazon.com/images/W/IMAGERENDERING_521856-T2/images/I/4174hmb5xkL._AC_UL320_.jpg</td>\n",
       "      <td>https://www.amazon.in/Nik-case-Silicon-Cover-Realme/dp/B08P8Z2SK8/ref=sr_1_8670?qid=1679134185&amp;s=electronics&amp;sr=1-8670</td>\n",
       "      <td>3.8</td>\n",
       "      <td>2,331</td>\n",
       "      <td>₹289</td>\n",
       "      <td>₹599</td>\n",
       "    </tr>\n",
       "  </tbody>\n",
       "</table>\n",
       "</div>"
      ],
      "text/plain": [
       "                                                                           name  \\\n",
       "8667  Nik case Silicon Cover for Realme Buds Air Pro/Air 2 (Soft|Silicon|Black)   \n",
       "\n",
       "                                                                                                 image  \\\n",
       "8667  https://m.media-amazon.com/images/W/IMAGERENDERING_521856-T2/images/I/4174hmb5xkL._AC_UL320_.jpg   \n",
       "\n",
       "                                                                                                                        link  \\\n",
       "8667  https://www.amazon.in/Nik-case-Silicon-Cover-Realme/dp/B08P8Z2SK8/ref=sr_1_8670?qid=1679134185&s=electronics&sr=1-8670   \n",
       "\n",
       "     ratings no_of_ratings discount_price actual_price  \n",
       "8667     3.8         2,331           ₹289         ₹599  "
      ]
     },
     "execution_count": 68,
     "metadata": {},
     "output_type": "execute_result"
    }
   ],
   "source": [
    "product =\"Nik case Silicon Cover for Realme Buds Air Pro/Air 2 (Soft|Silicon|Black)\"\n",
    "electronics[electronics['name']==product]"
   ]
  },
  {
   "cell_type": "code",
   "execution_count": 69,
   "id": "f8b49355",
   "metadata": {},
   "outputs": [],
   "source": [
    "def recommender(product):\n",
    "    product_index = electronics[electronics['name']==product].index[0]\n",
    "    similarity_list = list(enumerate(similarity[product_index]))\n",
    "    top_10_similar_product =sorted(similarity_list, key = lambda x:x[1],reverse=True)[1:11]\n",
    "    for idx,similarly in top_10_similar_product:\n",
    "        print(electronics.loc[idx]['name'])"
   ]
  },
  {
   "cell_type": "code",
   "execution_count": 70,
   "id": "274f7eac",
   "metadata": {},
   "outputs": [
    {
     "name": "stdout",
     "output_type": "stream",
     "text": [
      "Telca Case Cover Compatible with Realme Buds Air 3 NEO | ONLY Silicon Cover, NO Bluetooth (Buds Air 3 NEO, Black)\n",
      "Telca Case Cover Compatible with Realme Air 3 ONLY (Silicon Cover)\n",
      "Sounce Earphone Case Cover Compatible with Realme 3s Buds, Soft Silicone Skin Case Cover Shock-Absorbing Protective Case w...\n",
      "Sounce Earphone Case Cover Compatible with Realme 3s Buds, Soft Silicone Skin Case Cover Shock-Absorbing Protective Case w...\n",
      "Sounce Earphone Case Cover for Realme TechLife Buds T100, Soft Silicone Skin Case Cover Shock-Absorbing Protective Case wi...\n",
      "KHR® Silicone Protective Case Cover Compatible for Oppo Enco Buds 2 Full Protection Soft Silicone Case Cover with Hook, Black\n",
      "Amazon Brand - Solimo Back Cover Case for Realme 3 / Realme 3i | Compatible for Realme 3 / Realme 3i Back Cover Case | 360...\n",
      "Sounce Case Silicone Cover, Compatible with Keychain for Oneplus Nord Buds Full Protection Shockproof Case Cover Anti Fall...\n",
      "Sounce Case Silicone Cover, Compatible with Keychain for Oneplus Nord Buds Full Protection Shockproof Case Cover Anti Fall...\n",
      "Amazon Brand - Solimo Back Cover Case for Realme 6 | Compatible for Realme 6 Back Cover Case | 360 Degree Protection | Sof...\n"
     ]
    }
   ],
   "source": [
    "recommender(\"Nik case Silicon Cover for Realme Buds Air Pro/Air 2 (Soft|Silicon|Black)\")"
   ]
  },
  {
   "cell_type": "code",
   "execution_count": 71,
   "id": "7b4318c3",
   "metadata": {},
   "outputs": [],
   "source": [
    "pickle.dump(similarity,open('similarity.pkl','wb'))"
   ]
  },
  {
   "cell_type": "code",
   "execution_count": 72,
   "id": "b2913d98",
   "metadata": {},
   "outputs": [],
   "source": [
    "pickle.dump(electronics,open('data.pkl','wb'))"
   ]
  },
  {
   "cell_type": "code",
   "execution_count": null,
   "id": "5f287672",
   "metadata": {},
   "outputs": [],
   "source": []
  },
  {
   "cell_type": "code",
   "execution_count": null,
   "id": "161cb528",
   "metadata": {},
   "outputs": [],
   "source": []
  },
  {
   "cell_type": "code",
   "execution_count": null,
   "id": "81321db7",
   "metadata": {},
   "outputs": [],
   "source": []
  },
  {
   "cell_type": "code",
   "execution_count": null,
   "id": "3f7d8761",
   "metadata": {},
   "outputs": [],
   "source": []
  }
 ],
 "metadata": {
  "kernelspec": {
   "display_name": "Aishu",
   "language": "python",
   "name": "python3"
  },
  "language_info": {
   "codemirror_mode": {
    "name": "ipython",
    "version": 3
   },
   "file_extension": ".py",
   "mimetype": "text/x-python",
   "name": "python",
   "nbconvert_exporter": "python",
   "pygments_lexer": "ipython3",
   "version": "3.9.16"
  }
 },
 "nbformat": 4,
 "nbformat_minor": 5
}
